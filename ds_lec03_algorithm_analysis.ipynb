{
  "nbformat": 4,
  "nbformat_minor": 0,
  "metadata": {
    "colab": {
      "provenance": [],
      "include_colab_link": true
    },
    "kernelspec": {
      "name": "python3",
      "display_name": "Python 3"
    },
    "language_info": {
      "name": "python"
    }
  },
  "cells": [
    {
      "cell_type": "markdown",
      "metadata": {
        "id": "view-in-github",
        "colab_type": "text"
      },
      "source": [
        "<a href=\"https://colab.research.google.com/github/MinSeongKim2/data-structure-lab/blob/master/ds_lec03_algorithm_analysis.ipynb\" target=\"_parent\"><img src=\"https://colab.research.google.com/assets/colab-badge.svg\" alt=\"Open In Colab\"/></a>"
      ]
    },
    {
      "cell_type": "markdown",
      "source": [
        "> ### Data Structures & Programming Basics\n",
        "\n",
        "# Lecture03: Algorithm Analysis"
      ],
      "metadata": {
        "id": "YKk-ap7mRiIY"
      }
    },
    {
      "cell_type": "markdown",
      "source": [
        "##1. Insertion and Time"
      ],
      "metadata": {
        "id": "DN6n4qcATClI"
      }
    },
    {
      "cell_type": "code",
      "execution_count": 1,
      "metadata": {
        "id": "uqsSntWCQbwv"
      },
      "outputs": [],
      "source": [
        "def contains(bag, e) :\n",
        "    return e in bag\n",
        "\n",
        "def insert(bag, e) :\n",
        "    bag.append(e)\n",
        "\n",
        "def insert_first(bag, e) :\n",
        "    bag.insert(0, e)\n",
        "\n",
        "def remove(bag, e) :\n",
        "    bag.remove(e)\n",
        "\n",
        "def count(bag):\n",
        "    return len(bag)"
      ]
    },
    {
      "cell_type": "code",
      "execution_count": 3,
      "metadata": {
        "id": "IKZDKxPMQbww",
        "outputId": "6c14224d-af15-4741-d7d0-2763c9eb2f75",
        "colab": {
          "base_uri": "https://localhost:8080/"
        }
      },
      "outputs": [
        {
          "output_type": "stream",
          "name": "stdout",
          "text": [
            "가방속의 물건: ['휴대폰', '지갑', '손수건', '빗', '자료구조', '야구공']\n",
            "가방속의 물건: ['휴대폰', '지갑', '빗', '자료구조', '야구공', '빗']\n"
          ]
        }
      ],
      "source": [
        "myBag = []\n",
        "insert(myBag, '휴대폰')\n",
        "insert(myBag, '지갑')\n",
        "insert(myBag, '손수건')\n",
        "insert(myBag, '빗')\n",
        "insert(myBag, '자료구조')\n",
        "insert(myBag, '야구공')\n",
        "print('가방속의 물건:', myBag)\n",
        "\n",
        "insert(myBag, '빗')\n",
        "remove(myBag, '손수건')\n",
        "print('가방속의 물건:', myBag)"
      ]
    },
    {
      "cell_type": "markdown",
      "metadata": {
        "id": "TuKHswVnQbww"
      },
      "source": [
        "### Time module\n"
      ]
    },
    {
      "cell_type": "code",
      "execution_count": 4,
      "metadata": {
        "id": "f0veI68WQbww"
      },
      "outputs": [],
      "source": [
        "import time\n",
        "\n",
        "myBag = []\n",
        "start = time.time()\n",
        "for i in range(10000):\n",
        "    insert_first(myBag, '펜')\n",
        "end = time.time()"
      ]
    },
    {
      "cell_type": "code",
      "execution_count": null,
      "metadata": {
        "id": "_ZTbFg8NQbww",
        "outputId": "f97d7e7b-f61b-4f8f-80be-ed5f6c534129"
      },
      "outputs": [
        {
          "data": {
            "text/plain": [
              "1649766744.8884594"
            ]
          },
          "execution_count": 4,
          "metadata": {},
          "output_type": "execute_result"
        }
      ],
      "source": [
        "start"
      ]
    },
    {
      "cell_type": "code",
      "execution_count": null,
      "metadata": {
        "id": "Z-nqNcFRQbww",
        "outputId": "69a3b814-bf8a-4f79-9ee2-6c9e9b8a565e"
      },
      "outputs": [
        {
          "data": {
            "text/plain": [
              "1649766744.901425"
            ]
          },
          "execution_count": 5,
          "metadata": {},
          "output_type": "execute_result"
        }
      ],
      "source": [
        "end"
      ]
    },
    {
      "cell_type": "code",
      "execution_count": 5,
      "metadata": {
        "id": "b9pvGxQuQbww",
        "outputId": "831ff648-8c0c-4c5e-9b92-56f89a454b4c",
        "colab": {
          "base_uri": "https://localhost:8080/"
        }
      },
      "outputs": [
        {
          "output_type": "stream",
          "name": "stdout",
          "text": [
            "running time :  0.0286317 seconds\n"
          ]
        }
      ],
      "source": [
        "print(\"running time : %10.7f seconds\" % (end - start))"
      ]
    },
    {
      "cell_type": "code",
      "execution_count": 6,
      "metadata": {
        "id": "4LAqftPiQbww"
      },
      "outputs": [],
      "source": [
        "myBag = []\n",
        "start = time.time()\n",
        "for i in range(10000):\n",
        "    insert(myBag, '펜')\n",
        "end = time.time()"
      ]
    },
    {
      "cell_type": "code",
      "execution_count": 8,
      "metadata": {
        "id": "tyHoHvMEQbwx",
        "outputId": "aeb5efff-64fd-4464-bc87-3153b90896d9",
        "colab": {
          "base_uri": "https://localhost:8080/"
        }
      },
      "outputs": [
        {
          "output_type": "execute_result",
          "data": {
            "text/plain": [
              "1711506192.5852637"
            ]
          },
          "metadata": {},
          "execution_count": 8
        }
      ],
      "source": [
        "start"
      ]
    },
    {
      "cell_type": "code",
      "execution_count": 9,
      "metadata": {
        "id": "qz1mbuWeQbwx",
        "outputId": "764816a9-e6e9-4bf6-9026-ca6aa566ac00",
        "colab": {
          "base_uri": "https://localhost:8080/"
        }
      },
      "outputs": [
        {
          "output_type": "execute_result",
          "data": {
            "text/plain": [
              "1711506192.5939786"
            ]
          },
          "metadata": {},
          "execution_count": 9
        }
      ],
      "source": [
        "end"
      ]
    },
    {
      "cell_type": "code",
      "execution_count": 10,
      "metadata": {
        "id": "Cuw94_3kQbwy",
        "outputId": "db69ca22-4967-4163-dd9e-c267371eb3f7",
        "colab": {
          "base_uri": "https://localhost:8080/"
        }
      },
      "outputs": [
        {
          "output_type": "stream",
          "name": "stdout",
          "text": [
            "running time :  0.0087149 seconds\n"
          ]
        }
      ],
      "source": [
        "print(\"running time : %10.7f seconds\" % (end - start))"
      ]
    },
    {
      "cell_type": "markdown",
      "metadata": {
        "id": "hlkN53GPQbvY"
      },
      "source": [
        "\n",
        "## 2. What Is Algorithm Analysis?"
      ]
    },
    {
      "cell_type": "markdown",
      "source": [
        "* 1~n까지의 Sum을 구하는 함수"
      ],
      "metadata": {
        "id": "mrbI8JeSnId4"
      }
    },
    {
      "cell_type": "code",
      "execution_count": 11,
      "metadata": {
        "id": "GWzzBp1HQbvY"
      },
      "outputs": [],
      "source": [
        "def sum_of_n(n):\n",
        "    the_sum = 0\n",
        "    for i in range(1,n+1):\n",
        "        the_sum = the_sum + i\n",
        "    return the_sum"
      ]
    },
    {
      "cell_type": "code",
      "execution_count": 12,
      "metadata": {
        "id": "LMWZPaxuQbvZ",
        "colab": {
          "base_uri": "https://localhost:8080/"
        },
        "outputId": "89d0a7d8-f136-4b97-a591-5b9c75ea147f"
      },
      "outputs": [
        {
          "output_type": "stream",
          "name": "stdout",
          "text": [
            "55\n"
          ]
        }
      ],
      "source": [
        "print(sum_of_n(10))"
      ]
    },
    {
      "cell_type": "markdown",
      "source": [
        "* 같은 기능을 수행하는 함수이지만 이해하기 어려운 변수명, 추가적인 할당"
      ],
      "metadata": {
        "id": "mVmzYyrunWQ3"
      }
    },
    {
      "cell_type": "code",
      "execution_count": 13,
      "metadata": {
        "id": "OGMjWztBQbvZ"
      },
      "outputs": [],
      "source": [
        "def foo(tom):\n",
        "    fred = 0\n",
        "    for bill in range(1, tom+1):\n",
        "        barney = bill\n",
        "        fred = fred + barney\n",
        "    return fred"
      ]
    },
    {
      "cell_type": "code",
      "execution_count": 14,
      "metadata": {
        "id": "u8EUO-qDQbvZ",
        "colab": {
          "base_uri": "https://localhost:8080/"
        },
        "outputId": "be3d92ac-9fb8-46ff-86dd-a53f0a3420e2"
      },
      "outputs": [
        {
          "output_type": "stream",
          "name": "stdout",
          "text": [
            "55\n"
          ]
        }
      ],
      "source": [
        "print(foo(10))"
      ]
    },
    {
      "cell_type": "code",
      "execution_count": 15,
      "metadata": {
        "id": "HJhIIy1PQbvZ"
      },
      "outputs": [],
      "source": [
        "import time\n",
        "\n",
        "def sum_of_n_2(n):\n",
        "    start = time.time()\n",
        "    the_sum = 0\n",
        "\n",
        "    for i in range(1, n+1):\n",
        "        the_sum = the_sum + i\n",
        "    end = time.time()\n",
        "\n",
        "    return the_sum, end - start"
      ]
    },
    {
      "cell_type": "code",
      "execution_count": 16,
      "metadata": {
        "id": "oYQQI8RZQbvZ",
        "colab": {
          "base_uri": "https://localhost:8080/"
        },
        "outputId": "2ec6a262-7ab1-43d0-d70a-3cf09c0b1e4f"
      },
      "outputs": [
        {
          "output_type": "stream",
          "name": "stdout",
          "text": [
            "Sum is 50005000 required  0.0006351 seconds\n",
            "Sum is 50005000 required  0.0006452 seconds\n",
            "Sum is 50005000 required  0.0006318 seconds\n",
            "Sum is 50005000 required  0.0006189 seconds\n",
            "Sum is 50005000 required  0.0006161 seconds\n"
          ]
        }
      ],
      "source": [
        "for i in range(5):\n",
        "    print(\"Sum is %d required %10.7f seconds\" % sum_of_n_2(10000))"
      ]
    },
    {
      "cell_type": "code",
      "execution_count": 17,
      "metadata": {
        "id": "UTF88DcNQbvZ",
        "colab": {
          "base_uri": "https://localhost:8080/"
        },
        "outputId": "d1010487-6e4c-4fca-8e4c-147d3a8e1b13"
      },
      "outputs": [
        {
          "output_type": "stream",
          "name": "stdout",
          "text": [
            "Sum is 500000500000 required  0.0857258 seconds\n",
            "Sum is 500000500000 required  0.0656333 seconds\n",
            "Sum is 500000500000 required  0.0703256 seconds\n",
            "Sum is 500000500000 required  0.0703807 seconds\n",
            "Sum is 500000500000 required  0.0704730 seconds\n"
          ]
        }
      ],
      "source": [
        "for i in range(5):\n",
        "    print(\"Sum is %d required %10.7f seconds\" % sum_of_n_2(1000000))"
      ]
    },
    {
      "cell_type": "code",
      "execution_count": 18,
      "metadata": {
        "id": "gJthW1UOQbvZ"
      },
      "outputs": [],
      "source": [
        "def sum_of_n_3(n):\n",
        "    return (n * (n + 1)) / 2"
      ]
    },
    {
      "cell_type": "code",
      "execution_count": 19,
      "metadata": {
        "id": "F888shraQbvZ",
        "colab": {
          "base_uri": "https://localhost:8080/"
        },
        "outputId": "055e3443-6dd3-4cbd-e893-23caf9fd5368"
      },
      "outputs": [
        {
          "output_type": "stream",
          "name": "stdout",
          "text": [
            "55.0\n"
          ]
        }
      ],
      "source": [
        "print(sum_of_n_3(10))"
      ]
    },
    {
      "cell_type": "code",
      "execution_count": 20,
      "metadata": {
        "id": "XCRuza0EQbvZ"
      },
      "outputs": [],
      "source": [
        "def sum_of_n_3(n):\n",
        "    start = time.time()\n",
        "    the_sum = (n * (n + 1)) / 2\n",
        "    end = time.time()\n",
        "\n",
        "    return the_sum, end - start"
      ]
    },
    {
      "cell_type": "code",
      "execution_count": 21,
      "metadata": {
        "id": "-zQ62qguQbva",
        "colab": {
          "base_uri": "https://localhost:8080/"
        },
        "outputId": "79101392-d3f5-4af0-8852-4f7283904b03"
      },
      "outputs": [
        {
          "output_type": "stream",
          "name": "stdout",
          "text": [
            "Sum is 5000050000 required  0.0000014 seconds\n",
            "Sum is 500000500000 required  0.0000017 seconds\n",
            "Sum is 50000005000000 required  0.0000012 seconds\n",
            "Sum is 5000000050000000 required  0.0000019 seconds\n",
            "Sum is 500000000500000000 required  0.0000014 seconds\n"
          ]
        }
      ],
      "source": [
        "for i in range(5):\n",
        "    print(\"Sum is %d required %10.7f seconds\" % sum_of_n_3(10000 * (10 ** (i+1))))"
      ]
    },
    {
      "cell_type": "markdown",
      "metadata": {
        "id": "Ppm3Ck6pRFxd"
      },
      "source": [
        "## 3. Big-$\\mathcal{O}$ Notation"
      ]
    },
    {
      "cell_type": "markdown",
      "source": [
        "###p.23 Example"
      ],
      "metadata": {
        "id": "xjxlqtTvUTDP"
      }
    },
    {
      "cell_type": "code",
      "execution_count": 22,
      "metadata": {
        "id": "0eOZF2-NRFxd"
      },
      "outputs": [],
      "source": [
        "def sum_quad(n):\n",
        "    partialSum = 0\n",
        "    for i in range(n):\n",
        "        partialSum += i*i*i\n",
        "    return partialSum"
      ]
    },
    {
      "cell_type": "code",
      "execution_count": 23,
      "metadata": {
        "id": "o0ucBJZ3RFxe",
        "outputId": "c3fe7959-60e9-4017-c4c3-70df939d04c5",
        "colab": {
          "base_uri": "https://localhost:8080/"
        }
      },
      "outputs": [
        {
          "output_type": "execute_result",
          "data": {
            "text/plain": [
              "100"
            ]
          },
          "metadata": {},
          "execution_count": 23
        }
      ],
      "source": [
        "sum_quad(5)"
      ]
    },
    {
      "cell_type": "markdown",
      "metadata": {
        "id": "h-ZifLFMRFxe"
      },
      "source": [
        "### Rule 2"
      ]
    },
    {
      "cell_type": "code",
      "execution_count": 24,
      "metadata": {
        "id": "weTk0vauRFxf",
        "outputId": "3e7c48f2-c261-4a8a-d10d-ccc0cbd8c7ac",
        "colab": {
          "base_uri": "https://localhost:8080/"
        }
      },
      "outputs": [
        {
          "output_type": "stream",
          "name": "stdout",
          "text": [
            "4000\n"
          ]
        }
      ],
      "source": [
        "N = 100\n",
        "M = 40\n",
        "k = 0\n",
        "for i in range(N):\n",
        "    for j in range(M):\n",
        "        k += 1\n",
        "\n",
        "print(k)"
      ]
    },
    {
      "cell_type": "markdown",
      "metadata": {
        "id": "fBWjVRYIRFxf"
      },
      "source": [
        "### Rule 3"
      ]
    },
    {
      "cell_type": "code",
      "execution_count": 25,
      "metadata": {
        "id": "QuoRIbPjRFxf",
        "outputId": "7a7cb772-fdb4-46d5-af04-28d46a6e6369",
        "colab": {
          "base_uri": "https://localhost:8080/"
        }
      },
      "outputs": [
        {
          "output_type": "stream",
          "name": "stdout",
          "text": [
            "978\n"
          ]
        }
      ],
      "source": [
        "N = 100\n",
        "M = 40\n",
        "k = 0\n",
        "for i in range(N):\n",
        "    for j in range(N):\n",
        "        k = i + j\n",
        "for i in range(M):\n",
        "    k += i\n",
        "\n",
        "print(k)\n"
      ]
    },
    {
      "cell_type": "markdown",
      "metadata": {
        "id": "v0JGi3UJRFxf"
      },
      "source": [
        "### Rule 4"
      ]
    },
    {
      "cell_type": "code",
      "execution_count": 26,
      "metadata": {
        "id": "AHwoDArSRFxf",
        "outputId": "553c7ddc-be1a-4b2b-a952-82b165bc62eb",
        "colab": {
          "base_uri": "https://localhost:8080/"
        }
      },
      "outputs": [
        {
          "output_type": "stream",
          "name": "stdout",
          "text": [
            "score : 50\n",
            "score : 29\n",
            "score : 59\n",
            "score : 80\n",
            "score : 99\n",
            "score : 100\n"
          ]
        }
      ],
      "source": [
        "score = [50, 29, 59, 80, 99, 100]\n",
        "\n",
        "if len(score) > 5:\n",
        "    for i in score:\n",
        "        print(\"score : %d\" % i)\n",
        "else:\n",
        "    print(\"not enough scores\")\n"
      ]
    },
    {
      "cell_type": "markdown",
      "metadata": {
        "id": "sWWMOa6yRFxf"
      },
      "source": [
        "### p.31 순환 Recursive"
      ]
    },
    {
      "cell_type": "markdown",
      "metadata": {
        "id": "GA8Q1UxmRFxf"
      },
      "source": [
        "* factorial"
      ]
    },
    {
      "cell_type": "code",
      "execution_count": 27,
      "metadata": {
        "id": "ubWAl6ThRFxf"
      },
      "outputs": [],
      "source": [
        "def factorial(n):\n",
        "    if n==1:\n",
        "        return 1\n",
        "    else:\n",
        "        return n*factorial(n-1)"
      ]
    },
    {
      "cell_type": "code",
      "execution_count": 28,
      "metadata": {
        "id": "pVTrqxGgRFxg",
        "outputId": "a6ed0ecc-d86a-496a-da5f-b623d474024f",
        "colab": {
          "base_uri": "https://localhost:8080/"
        }
      },
      "outputs": [
        {
          "output_type": "stream",
          "name": "stdout",
          "text": [
            "3628800\n"
          ]
        }
      ],
      "source": [
        "print(factorial(10))"
      ]
    },
    {
      "cell_type": "code",
      "execution_count": 29,
      "metadata": {
        "id": "QmL-LqftRFxg"
      },
      "outputs": [],
      "source": [
        "def factorial2(n):\n",
        "    result = 1\n",
        "    for k in range(n,0,-1):\n",
        "        result = result * k\n",
        "    return result"
      ]
    },
    {
      "cell_type": "code",
      "execution_count": 30,
      "metadata": {
        "id": "qeiuSt6ARFxg",
        "outputId": "82223cdb-4f38-40df-e6b3-f7dcf710edd2",
        "colab": {
          "base_uri": "https://localhost:8080/"
        }
      },
      "outputs": [
        {
          "output_type": "stream",
          "name": "stdout",
          "text": [
            "3628800\n"
          ]
        }
      ],
      "source": [
        "print(factorial2(10))"
      ]
    },
    {
      "cell_type": "markdown",
      "metadata": {
        "id": "GLsUHJ2KRFxg"
      },
      "source": [
        "* 거듭제곱"
      ]
    },
    {
      "cell_type": "code",
      "execution_count": 31,
      "metadata": {
        "id": "0B2bueEKRFxg"
      },
      "outputs": [],
      "source": [
        "import math as m"
      ]
    },
    {
      "cell_type": "code",
      "execution_count": 32,
      "metadata": {
        "id": "4y9VEGQmRFxg",
        "outputId": "ec1e9fbc-41e1-4630-b0d9-6d2bcd8c75f4",
        "colab": {
          "base_uri": "https://localhost:8080/"
        }
      },
      "outputs": [
        {
          "output_type": "execute_result",
          "data": {
            "text/plain": [
              "8.0"
            ]
          },
          "metadata": {},
          "execution_count": 32
        }
      ],
      "source": [
        "m.pow(2,3)"
      ]
    },
    {
      "cell_type": "code",
      "execution_count": 33,
      "metadata": {
        "id": "rtjMT_p7RFxg"
      },
      "outputs": [],
      "source": [
        "def power_iter(x,n):\n",
        "    result = 1.0\n",
        "    for i in range(n):\n",
        "        result = result * x\n",
        "    return result"
      ]
    },
    {
      "cell_type": "code",
      "execution_count": null,
      "metadata": {
        "id": "ak5Z_uPfRFxg",
        "outputId": "7317ba34-7a43-4af8-ee7a-d73940a10cf9"
      },
      "outputs": [
        {
          "name": "stdout",
          "output_type": "stream",
          "text": [
            "8.0\n"
          ]
        }
      ],
      "source": [
        "print(power_iter(2,3))"
      ]
    },
    {
      "cell_type": "code",
      "execution_count": 35,
      "metadata": {
        "id": "8rn7tVW0RFxg"
      },
      "outputs": [],
      "source": [
        "def power_recur(x,n):\n",
        "  if n == 0 :\n",
        "      return 1\n",
        "\n",
        "  elif (n % 2) == 0:\n",
        "      return power_recur(x*x, n//2)\n",
        "\n",
        "  else :\n",
        "      return x*power_recur(x*x, (n-1)//2)\n",
        ""
      ]
    },
    {
      "cell_type": "code",
      "execution_count": 36,
      "metadata": {
        "id": "WR0jPi_WRFxg",
        "outputId": "5ed5c236-fbd4-4756-93f3-e81385c7b696",
        "colab": {
          "base_uri": "https://localhost:8080/"
        }
      },
      "outputs": [
        {
          "output_type": "stream",
          "name": "stdout",
          "text": [
            "8\n"
          ]
        }
      ],
      "source": [
        "print(power_recur(2,3))"
      ]
    },
    {
      "cell_type": "markdown",
      "metadata": {
        "id": "PnlzLq9YRFxg"
      },
      "source": [
        "* p.36 피보나치 수열"
      ]
    },
    {
      "cell_type": "code",
      "execution_count": null,
      "metadata": {
        "id": "Diujr2B4RFxg"
      },
      "outputs": [],
      "source": [
        "import time"
      ]
    },
    {
      "cell_type": "code",
      "execution_count": null,
      "metadata": {
        "id": "3y4SG5ZQRFxh",
        "outputId": "3789c540-04ad-4089-b3bb-5eabe139c091"
      },
      "outputs": [
        {
          "name": "stdout",
          "output_type": "stream",
          "text": [
            "55\n"
          ]
        }
      ],
      "source": [
        "def fib(n):\n",
        "    if n == 0:\n",
        "        return 0\n",
        "    elif n == 1 or n == 2:\n",
        "        return 1\n",
        "    else:\n",
        "        return fib(n - 1) + fib(n - 2)\n",
        "\n",
        "n = int(input(\"숫자를 입력하세요.\"))\n",
        "\n",
        "start = time.time()\n",
        "print(fib(n))\n",
        "end = time.time()"
      ]
    },
    {
      "cell_type": "code",
      "execution_count": null,
      "metadata": {
        "id": "dCBqb8Y3RFxh",
        "outputId": "e458b5a1-f3c8-48aa-f59c-1ea9aa87f351"
      },
      "outputs": [
        {
          "data": {
            "text/plain": [
              "1650347906.8174057"
            ]
          },
          "execution_count": 18,
          "metadata": {},
          "output_type": "execute_result"
        }
      ],
      "source": [
        "start"
      ]
    },
    {
      "cell_type": "code",
      "execution_count": null,
      "metadata": {
        "id": "QV_3Yi1xRFxh",
        "outputId": "6a79910a-d753-4e8b-9844-384d693c2e6d"
      },
      "outputs": [
        {
          "data": {
            "text/plain": [
              "1650347906.8174057"
            ]
          },
          "execution_count": 19,
          "metadata": {},
          "output_type": "execute_result"
        }
      ],
      "source": [
        "end"
      ]
    },
    {
      "cell_type": "code",
      "execution_count": null,
      "metadata": {
        "id": "Im63HtfsRFxh",
        "outputId": "a5fa9462-b43e-49e2-9cce-d2174ff0589f"
      },
      "outputs": [
        {
          "name": "stdout",
          "output_type": "stream",
          "text": [
            "running time :  0.0000000 seconds\n"
          ]
        }
      ],
      "source": [
        "print(\"running time : %10.7f seconds\" % (end - start))"
      ]
    },
    {
      "cell_type": "code",
      "execution_count": null,
      "metadata": {
        "id": "xiQtUm-yRFxh",
        "outputId": "8a5186a8-f63c-49c2-e61d-75109e3297eb"
      },
      "outputs": [
        {
          "name": "stdout",
          "output_type": "stream",
          "text": [
            "6765\n"
          ]
        }
      ],
      "source": [
        "def fib_iter(n):\n",
        "    if (n < 2):\n",
        "        return n\n",
        "    last = 0\n",
        "    current = 1\n",
        "    for i in range(2, n+1):\n",
        "        tmp = current\n",
        "        current += last\n",
        "        last = tmp\n",
        "    return current\n",
        "\n",
        "n = int(input(\"숫자를 입력하세요.\"))\n",
        "start = time.time()\n",
        "print(fib_iter(n))\n",
        "end = time.time()"
      ]
    },
    {
      "cell_type": "code",
      "execution_count": null,
      "metadata": {
        "id": "UoBRLBWJRFxh",
        "outputId": "4e23fb5b-1f10-476a-fe9b-e1bde95761b0"
      },
      "outputs": [
        {
          "data": {
            "text/plain": [
              "1650347934.4749465"
            ]
          },
          "execution_count": 26,
          "metadata": {},
          "output_type": "execute_result"
        }
      ],
      "source": [
        "start"
      ]
    },
    {
      "cell_type": "code",
      "execution_count": null,
      "metadata": {
        "id": "5_ZyoHrvRFxh",
        "outputId": "78979a42-a2a3-4b0c-9dbf-c7b957052ac1"
      },
      "outputs": [
        {
          "data": {
            "text/plain": [
              "1650347934.4749465"
            ]
          },
          "execution_count": 27,
          "metadata": {},
          "output_type": "execute_result"
        }
      ],
      "source": [
        "end"
      ]
    },
    {
      "cell_type": "code",
      "execution_count": null,
      "metadata": {
        "id": "lbyemPv5RFxh",
        "outputId": "f366d270-b0f2-47ba-c94f-fb60b92bde7e"
      },
      "outputs": [
        {
          "name": "stdout",
          "output_type": "stream",
          "text": [
            "running time :  0.0000000 seconds\n"
          ]
        }
      ],
      "source": [
        "print(\"running time : %10.7f seconds\" % (end - start))"
      ]
    }
  ]
}